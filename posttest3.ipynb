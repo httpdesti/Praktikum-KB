{
  "nbformat": 4,
  "nbformat_minor": 0,
  "metadata": {
    "colab": {
      "provenance": [],
      "authorship_tag": "ABX9TyP19lhXJeplCKmEUtqMfA1Q",
      "include_colab_link": true
    },
    "kernelspec": {
      "name": "python3",
      "display_name": "Python 3"
    },
    "language_info": {
      "name": "python"
    }
  },
  "cells": [
    {
      "cell_type": "markdown",
      "metadata": {
        "id": "view-in-github",
        "colab_type": "text"
      },
      "source": [
        "<a href=\"https://colab.research.google.com/github/httpdesti/Praktikum-KB/blob/main/posttest3.ipynb\" target=\"_parent\"><img src=\"https://colab.research.google.com/assets/colab-badge.svg\" alt=\"Open In Colab\"/></a>"
      ]
    },
    {
      "cell_type": "markdown",
      "source": [
        "# POSTTEST 3\n",
        "### Nama : Desti Yulianingsih\n",
        "### NIM : 2209106059"
      ],
      "metadata": {
        "id": "Oovopdz6dHrS"
      }
    },
    {
      "cell_type": "markdown",
      "source": [
        "#### 1. Data Cleaning\n",
        "import semua library yang diperlukan dan cek missing value pada dataset.\n"
      ],
      "metadata": {
        "id": "cx40uLp5dWlq"
      }
    },
    {
      "cell_type": "code",
      "execution_count": 4,
      "metadata": {
        "colab": {
          "base_uri": "https://localhost:8080/",
          "height": 554
        },
        "id": "ZvLBPOozWuZ-",
        "outputId": "c97a5ceb-f0c4-43e5-f02f-274b60ea4e35"
      },
      "outputs": [
        {
          "output_type": "execute_result",
          "data": {
            "text/plain": [
              "Country                     0\n",
              "League                      0\n",
              "Club                       34\n",
              "Player Names                0\n",
              "Matches_Played              0\n",
              "Substitution                0\n",
              "Mins                        0\n",
              "Goals                       0\n",
              "xG                          0\n",
              "xG Per Avg Match            0\n",
              "Shots                       0\n",
              "OnTarget                    0\n",
              "Shots Per Avg Match         0\n",
              "On Target Per Avg Match     0\n",
              "Year                        0\n",
              "dtype: int64"
            ],
            "text/html": [
              "<div>\n",
              "<style scoped>\n",
              "    .dataframe tbody tr th:only-of-type {\n",
              "        vertical-align: middle;\n",
              "    }\n",
              "\n",
              "    .dataframe tbody tr th {\n",
              "        vertical-align: top;\n",
              "    }\n",
              "\n",
              "    .dataframe thead th {\n",
              "        text-align: right;\n",
              "    }\n",
              "</style>\n",
              "<table border=\"1\" class=\"dataframe\">\n",
              "  <thead>\n",
              "    <tr style=\"text-align: right;\">\n",
              "      <th></th>\n",
              "      <th>0</th>\n",
              "    </tr>\n",
              "  </thead>\n",
              "  <tbody>\n",
              "    <tr>\n",
              "      <th>Country</th>\n",
              "      <td>0</td>\n",
              "    </tr>\n",
              "    <tr>\n",
              "      <th>League</th>\n",
              "      <td>0</td>\n",
              "    </tr>\n",
              "    <tr>\n",
              "      <th>Club</th>\n",
              "      <td>34</td>\n",
              "    </tr>\n",
              "    <tr>\n",
              "      <th>Player Names</th>\n",
              "      <td>0</td>\n",
              "    </tr>\n",
              "    <tr>\n",
              "      <th>Matches_Played</th>\n",
              "      <td>0</td>\n",
              "    </tr>\n",
              "    <tr>\n",
              "      <th>Substitution</th>\n",
              "      <td>0</td>\n",
              "    </tr>\n",
              "    <tr>\n",
              "      <th>Mins</th>\n",
              "      <td>0</td>\n",
              "    </tr>\n",
              "    <tr>\n",
              "      <th>Goals</th>\n",
              "      <td>0</td>\n",
              "    </tr>\n",
              "    <tr>\n",
              "      <th>xG</th>\n",
              "      <td>0</td>\n",
              "    </tr>\n",
              "    <tr>\n",
              "      <th>xG Per Avg Match</th>\n",
              "      <td>0</td>\n",
              "    </tr>\n",
              "    <tr>\n",
              "      <th>Shots</th>\n",
              "      <td>0</td>\n",
              "    </tr>\n",
              "    <tr>\n",
              "      <th>OnTarget</th>\n",
              "      <td>0</td>\n",
              "    </tr>\n",
              "    <tr>\n",
              "      <th>Shots Per Avg Match</th>\n",
              "      <td>0</td>\n",
              "    </tr>\n",
              "    <tr>\n",
              "      <th>On Target Per Avg Match</th>\n",
              "      <td>0</td>\n",
              "    </tr>\n",
              "    <tr>\n",
              "      <th>Year</th>\n",
              "      <td>0</td>\n",
              "    </tr>\n",
              "  </tbody>\n",
              "</table>\n",
              "</div><br><label><b>dtype:</b> int64</label>"
            ]
          },
          "metadata": {},
          "execution_count": 4
        }
      ],
      "source": [
        "from sklearn.preprocessing import MinMaxScaler\n",
        "import pandas as pd\n",
        "import numpy as np\n",
        "import matplotlib.pyplot as plt\n",
        "import seaborn as sns\n",
        "sb = pd.read_csv('football-league.csv')\n",
        "sb.isnull().sum()"
      ]
    },
    {
      "cell_type": "markdown",
      "source": [
        "karena tidak ada missing value yang ditemukan, maka kita tidak perlu melakukan handling missing value. selanjutnya cek duplicate value yang ada pada dataset"
      ],
      "metadata": {
        "id": "ua5QFgiFd0P5"
      }
    },
    {
      "cell_type": "code",
      "source": [
        "duplicate = sb.duplicated().sum()\n",
        "print(duplicate)"
      ],
      "metadata": {
        "colab": {
          "base_uri": "https://localhost:8080/"
        },
        "id": "Q_sCMzKjWvZz",
        "outputId": "6f17334e-7431-4548-b908-2d8f69545917"
      },
      "execution_count": 5,
      "outputs": [
        {
          "output_type": "stream",
          "name": "stdout",
          "text": [
            "0\n"
          ]
        }
      ]
    },
    {
      "cell_type": "markdown",
      "source": [
        "karena duplikat valuenya juga tidak ada maka selanjutnya kita cek outliernya."
      ],
      "metadata": {
        "id": "HIPU056VePm7"
      }
    },
    {
      "cell_type": "code",
      "source": [
        "fig, ax = plt.subplots(figsize=(2,3)) #buat frame/figure\n",
        "sns.boxplot(sb['Year'])"
      ],
      "metadata": {
        "colab": {
          "base_uri": "https://localhost:8080/",
          "height": 290
        },
        "id": "zCo_hzhaXtRF",
        "outputId": "794de766-006f-4cd4-8bd1-1f158782c2aa"
      },
      "execution_count": 6,
      "outputs": [
        {
          "output_type": "execute_result",
          "data": {
            "text/plain": [
              "<Axes: ylabel='Year'>"
            ]
          },
          "metadata": {},
          "execution_count": 6
        },
        {
          "output_type": "display_data",
          "data": {
            "text/plain": [
              "<Figure size 200x300 with 1 Axes>"
            ],
            "image/png": "[encoded data removed]"
          },
          "metadata": {}
        }
      ]
    },
    {
      "cell_type": "markdown",
      "source": [
        "#### 2. Normalisasi dan Standarisasi\n",
        "lakukan normalisasi pada kolom numerik, saya memilih kolom 'Year' untuk di-normalisasi. gunakan minmax scaler untuk normalisasi data."
      ],
      "metadata": {
        "id": "CcRDVFGRX4UF"
      }
    },
    {
      "cell_type": "code",
      "source": [
        "scaler = MinMaxScaler()\n",
        "normalized_data = pd.DataFrame(scaler.fit_transform(sb.select_dtypes('int')))\n",
        "normalized_data['Year'] = sb['Year']\n",
        "print(normalized_data.head())\n",
        "# sb.select_dtypes('int')"
      ],
      "metadata": {
        "colab": {
          "base_uri": "https://localhost:8080/"
        },
        "id": "HRa2vGmmX1AP",
        "outputId": "91dfd956-7deb-4313-f6af-fb4dd615adc7"
      },
      "execution_count": 7,
      "outputs": [
        {
          "output_type": "stream",
          "name": "stdout",
          "text": [
            "          0         1         2         3         4     5    6  Year\n",
            "0  0.472222  0.615385  0.405060  0.257143  0.211823  0.18  0.0  2016\n",
            "1  0.944444  0.000000  0.732175  0.400000  0.408867  0.39  0.0  2016\n",
            "2  0.888889  0.038462  0.683874  0.742857  0.566502  0.55  0.0  2016\n",
            "3  0.833333  0.115385  0.658830  0.314286  0.551724  0.40  0.0  2016\n",
            "4  0.527778  0.384615  0.378482  0.314286  0.221675  0.21  0.0  2016\n"
          ]
        }
      ]
    },
    {
      "cell_type": "markdown",
      "source": [
        "untuk standarisasi, saya juga memilih kolom 'Year'\n",
        "import StandarScaler dari scikit-learn untuk standarisasi data, setelah itu buat objek StandarScaler"
      ],
      "metadata": {
        "id": "0ntjx2qwfx6-"
      }
    },
    {
      "cell_type": "code",
      "source": [
        "from sklearn.preprocessing import StandardScaler\n",
        "\n",
        "scaler = StandardScaler()\n",
        "standardized_data = pd.DataFrame(scaler.fit_transform(sb.select_dtypes('int')))\n",
        "standardized_data['Year'] = sb['Year']\n",
        "\n",
        "print(standardized_data.head())"
      ],
      "metadata": {
        "colab": {
          "base_uri": "https://localhost:8080/"
        },
        "id": "J21sYrJ4X870",
        "outputId": "46294a1f-c8de-4770-9d58-c76a81c78d66"
      },
      "execution_count": 8,
      "outputs": [
        {
          "output_type": "stream",
          "name": "stdout",
          "text": [
            "          0         1         2         3         4         5         6  Year\n",
            "0 -0.345862  3.329978 -0.247154 -0.131291 -0.463331 -0.511607 -1.729494  2016\n",
            "1  1.398217 -0.840393  1.175207  0.705120  0.682304  0.772738 -1.729494  2016\n",
            "2  1.193031 -0.579745  0.965186  2.712507  1.598811  1.751287 -1.729494  2016\n",
            "3  0.987845 -0.058448  0.856287  0.203273  1.512889  0.833898 -1.729494  2016\n",
            "4 -0.140677  1.766089 -0.362720  0.203273 -0.406049 -0.328129 -1.729494  2016\n"
          ]
        }
      ]
    },
    {
      "cell_type": "markdown",
      "source": [
        "#### 3. Encoding kolom kategorikal\n",
        "label-encoding"
      ],
      "metadata": {
        "id": "m6QEAGIehCUq"
      }
    },
    {
      "cell_type": "code",
      "source": [
        "from sklearn.preprocessing import LabelEncoder\n",
        "\n",
        "label_encoder = LabelEncoder()\n",
        "sb['League_encoded'] = label_encoder.fit_transform(sb['League'])\n",
        "print(sb[['League', 'League_encoded']])"
      ],
      "metadata": {
        "colab": {
          "base_uri": "https://localhost:8080/"
        },
        "id": "rkYvoIR8hR-D",
        "outputId": "de1c4478-af85-4086-e611-5c66725b1bb3"
      },
      "execution_count": 9,
      "outputs": [
        {
          "output_type": "stream",
          "name": "stdout",
          "text": [
            "         League  League_encoded\n",
            "0       La Liga              23\n",
            "1       La Liga              23\n",
            "2       La Liga              23\n",
            "3       La Liga              23\n",
            "4       La Liga              23\n",
            "..          ...             ...\n",
            "655  Eredivisie               2\n",
            "656  Eredivisie               2\n",
            "657  Eredivisie               2\n",
            "658  Eredivisie               2\n",
            "659  Eredivisie               2\n",
            "\n",
            "[660 rows x 2 columns]\n"
          ]
        }
      ]
    },
    {
      "cell_type": "markdown",
      "source": [
        "#### 4. Feature Enginneering\n",
        "membuat 3 feature baru"
      ],
      "metadata": {
        "id": "DSHT0CJPjxjk"
      }
    },
    {
      "cell_type": "markdown",
      "source": [
        "1. Goal Conversion Rate, rasio antara jumlah gol yang dicetak dengan jumlah tembakan yang dilakukan oleh pemain"
      ],
      "metadata": {
        "id": "AJSvXW4j3tk0"
      }
    },
    {
      "cell_type": "code",
      "source": [
        "sb['Goal_conversion_rate'] = sb['Goals'] / sb['Year']\n",
        "print(sb.head())"
      ],
      "metadata": {
        "colab": {
          "base_uri": "https://localhost:8080/"
        },
        "id": "QPgWeWfmmCKS",
        "outputId": "e4a14a37-6030-4258-89f9-e1661daf2ccf"
      },
      "execution_count": 11,
      "outputs": [
        {
          "output_type": "stream",
          "name": "stdout",
          "text": [
            "  Country   League   Club       Player Names  Matches_Played  Substitution   \\\n",
            "0   Spain  La Liga  (BET)    Juanmi Callejon              19             16   \n",
            "1   Spain  La Liga  (BAR)  Antoine Griezmann              36              0   \n",
            "2   Spain  La Liga  (ATL)        Luis Suarez              34              1   \n",
            "3   Spain  La Liga  (CAR)       Ruben Castro              32              3   \n",
            "4   Spain  La Liga  (VAL)      Kevin Gameiro              21             10   \n",
            "\n",
            "   Mins  Goals     xG  xG Per Avg Match  Shots  OnTarget  Shots Per Avg Match  \\\n",
            "0  1849     11   6.62              0.34     48        20                 2.47   \n",
            "1  3129     16  11.86              0.36     88        41                 2.67   \n",
            "2  2940     28  23.21              0.75    120        57                 3.88   \n",
            "3  2842     13  14.06              0.47    117        42                 3.91   \n",
            "4  1745     13  10.65              0.58     50        23                 2.72   \n",
            "\n",
            "   On Target Per Avg Match  Year  League_encoded  Goal_conversion_rate  \n",
            "0                     1.03  2016              23              0.005456  \n",
            "1                     1.24  2016              23              0.007937  \n",
            "2                     1.84  2016              23              0.013889  \n",
            "3                     1.40  2016              23              0.006448  \n",
            "4                     1.25  2016              23              0.006448  \n"
          ]
        }
      ]
    },
    {
      "cell_type": "markdown",
      "source": [
        "2. shooting accuracy,\n",
        "mengukur akurasi tembakan seorang pemain, yaitu persentase tembakan yang tepat sasaran (on target) dari total tembakan."
      ],
      "metadata": {
        "id": "KfYAnBqb3Hay"
      }
    },
    {
      "cell_type": "code",
      "source": [
        "sb['Shooting_Accuracy'] = sb['OnTarget'] / sb['Shots']\n",
        "print(sb.head())"
      ],
      "metadata": {
        "colab": {
          "base_uri": "https://localhost:8080/"
        },
        "id": "-z0aLsZS48S1",
        "outputId": "5e5f60ea-4551-4ac6-bd99-8cc376e944d7"
      },
      "execution_count": 13,
      "outputs": [
        {
          "output_type": "stream",
          "name": "stdout",
          "text": [
            "  Country   League   Club       Player Names  Matches_Played  Substitution   \\\n",
            "0   Spain  La Liga  (BET)    Juanmi Callejon              19             16   \n",
            "1   Spain  La Liga  (BAR)  Antoine Griezmann              36              0   \n",
            "2   Spain  La Liga  (ATL)        Luis Suarez              34              1   \n",
            "3   Spain  La Liga  (CAR)       Ruben Castro              32              3   \n",
            "4   Spain  La Liga  (VAL)      Kevin Gameiro              21             10   \n",
            "\n",
            "   Mins  Goals     xG  xG Per Avg Match  Shots  OnTarget  Shots Per Avg Match  \\\n",
            "0  1849     11   6.62              0.34     48        20                 2.47   \n",
            "1  3129     16  11.86              0.36     88        41                 2.67   \n",
            "2  2940     28  23.21              0.75    120        57                 3.88   \n",
            "3  2842     13  14.06              0.47    117        42                 3.91   \n",
            "4  1745     13  10.65              0.58     50        23                 2.72   \n",
            "\n",
            "   On Target Per Avg Match  Year  League_encoded  Goal_conversion_rate  \\\n",
            "0                     1.03  2016              23              0.005456   \n",
            "1                     1.24  2016              23              0.007937   \n",
            "2                     1.84  2016              23              0.013889   \n",
            "3                     1.40  2016              23              0.006448   \n",
            "4                     1.25  2016              23              0.006448   \n",
            "\n",
            "   Shooting_Accuracy  \n",
            "0           0.416667  \n",
            "1           0.465909  \n",
            "2           0.475000  \n",
            "3           0.358974  \n",
            "4           0.460000  \n"
          ]
        }
      ]
    },
    {
      "cell_type": "markdown",
      "source": [
        "3. Average Goal per-Match, rata-rata gol yang dicetak oleh pemain dalam satu pertandingan."
      ],
      "metadata": {
        "id": "1rA9M3_p5N4M"
      }
    },
    {
      "cell_type": "code",
      "source": [
        "sb['Avg_Goals_Per_Match'] = sb['Goals'] / sb['Matches_Played']\n",
        "print(sb.head())"
      ],
      "metadata": {
        "colab": {
          "base_uri": "https://localhost:8080/"
        },
        "id": "RBPpkQEv5GrW",
        "outputId": "52903ce4-36b1-41e1-eabc-e99e2658d22c"
      },
      "execution_count": 15,
      "outputs": [
        {
          "output_type": "stream",
          "name": "stdout",
          "text": [
            "  Country   League   Club       Player Names  Matches_Played  Substitution   \\\n",
            "0   Spain  La Liga  (BET)    Juanmi Callejon              19             16   \n",
            "1   Spain  La Liga  (BAR)  Antoine Griezmann              36              0   \n",
            "2   Spain  La Liga  (ATL)        Luis Suarez              34              1   \n",
            "3   Spain  La Liga  (CAR)       Ruben Castro              32              3   \n",
            "4   Spain  La Liga  (VAL)      Kevin Gameiro              21             10   \n",
            "\n",
            "   Mins  Goals     xG  xG Per Avg Match  Shots  OnTarget  Shots Per Avg Match  \\\n",
            "0  1849     11   6.62              0.34     48        20                 2.47   \n",
            "1  3129     16  11.86              0.36     88        41                 2.67   \n",
            "2  2940     28  23.21              0.75    120        57                 3.88   \n",
            "3  2842     13  14.06              0.47    117        42                 3.91   \n",
            "4  1745     13  10.65              0.58     50        23                 2.72   \n",
            "\n",
            "   On Target Per Avg Match  Year  League_encoded  Goal_conversion_rate  \\\n",
            "0                     1.03  2016              23              0.005456   \n",
            "1                     1.24  2016              23              0.007937   \n",
            "2                     1.84  2016              23              0.013889   \n",
            "3                     1.40  2016              23              0.006448   \n",
            "4                     1.25  2016              23              0.006448   \n",
            "\n",
            "   Shooting_Accuracy  Avg_Goals_Per_Match  \n",
            "0           0.416667             0.578947  \n",
            "1           0.465909             0.444444  \n",
            "2           0.475000             0.823529  \n",
            "3           0.358974             0.406250  \n",
            "4           0.460000             0.619048  \n"
          ]
        }
      ]
    },
    {
      "cell_type": "markdown",
      "source": [
        "#### 5. Splitting data ke dalam data training & data testing\n",
        "menggunakan fungsi train_test_split dari library sklearn\n",
        "###### saya ingin memprediksi jumlah goal, jadi kita gunakan kolom-kolom lain sebagai fitur dan gunakan train_test_split untuk menentukan proporsi data training dan testing\n",
        "###### X = fitur yang digunakan untuk prediksi selain target 'Goal'\n",
        "###### y = target yang akan diprediksi 'Goal'\n",
        "###### test.size = 0.2 =  20% data akan digunakan untuk testing, dan sisanya (80%) untuk training\n",
        "###### random_state = 42 = menetapkan seed random supaya hasil splitting konsisten setiap kali kode dijalankan\n"
      ],
      "metadata": {
        "id": "44XBR0Mv5p8N"
      }
    },
    {
      "cell_type": "code",
      "source": [
        "from sklearn.model_selection import train_test_split\n",
        "\n",
        "X = sb.drop(['Goals', 'Player Names'], axis = 1)\n",
        "y = sb['Goals']\n",
        "\n",
        "X_train, X_test, y_train, y_test = train_test_split(X, y, test_size = 0.2, random_state = 42)\n",
        "\n",
        "print(\"Data Training X : \", X_train.shape)\n",
        "print(\"Data Testing X : \", X_test.shape)\n",
        "print(\"Data Training y : \", y_train.shape)\n",
        "print(\"Data Testing y : \", y_test.shape)"
      ],
      "metadata": {
        "colab": {
          "base_uri": "https://localhost:8080/"
        },
        "id": "Y8svinXF5hMt",
        "outputId": "a3743eba-96c5-4e3d-e928-8dc8045c7e42"
      },
      "execution_count": 16,
      "outputs": [
        {
          "output_type": "stream",
          "name": "stdout",
          "text": [
            "Data Training X :  (528, 17)\n",
            "Data Testing X :  (132, 17)\n",
            "Data Training y :  (528,)\n",
            "Data Testing y :  (132,)\n"
          ]
        }
      ]
    },
    {
      "cell_type": "code",
      "source": [],
      "metadata": {
        "id": "VWCOemyE6sJy"
      },
      "execution_count": null,
      "outputs": []
    }
  ]
}